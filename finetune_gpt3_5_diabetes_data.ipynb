{
  "nbformat": 4,
  "nbformat_minor": 0,
  "metadata": {
    "colab": {
      "provenance": []
    },
    "kernelspec": {
      "name": "python3",
      "display_name": "Python 3"
    },
    "language_info": {
      "name": "python"
    }
  },
  "cells": [
    {
      "cell_type": "code",
      "execution_count": null,
      "metadata": {
        "id": "QeGON-bhcP-R"
      },
      "outputs": [],
      "source": [
        "# 1- Scrap the diabetes Data (Q_A)\n",
        "# 2- get the data in the desired format of gpt3.5-turbo + save it in jsonl\n",
        "# 3- fine tune the model\n",
        "# 3- use the finetuned model"
      ]
    },
    {
      "cell_type": "markdown",
      "source": [
        "Before finetuning,you should have a look on the pricing: fine tuning costs: https://openai.com/blog/gpt-3-5-turbo-fine-tuning-and-api-updates\n",
        "\n",
        "Also the Fine-tuning is currently available for the following models:\n",
        "`\n",
        "gpt-3.5-turbo-0613 (recommended)\n",
        "babbage-002\n",
        "davinci-002\n",
        "`"
      ],
      "metadata": {
        "id": "fbKUOlPtiML4"
      }
    },
    {
      "cell_type": "code",
      "source": [
        "!pip install PyPDF2 tiktoken python-dotenv langchain openai chromadb"
      ],
      "metadata": {
        "colab": {
          "base_uri": "https://localhost:8080/"
        },
        "id": "H9aHBbvGHMFa",
        "outputId": "839ad1e6-6ba0-45ce-d844-3c576d84ff92"
      },
      "execution_count": null,
      "outputs": [
        {
          "output_type": "stream",
          "name": "stdout",
          "text": [
            "Collecting PyPDF2\n",
            "  Downloading pypdf2-3.0.1-py3-none-any.whl (232 kB)\n",
            "\u001b[2K     \u001b[90m━━━━━━━━━━━━━━━━━━━━━━━━━━━━━━━━━━━━━━━\u001b[0m \u001b[32m232.6/232.6 kB\u001b[0m \u001b[31m5.1 MB/s\u001b[0m eta \u001b[36m0:00:00\u001b[0m\n",
            "\u001b[?25hCollecting tiktoken\n",
            "  Downloading tiktoken-0.4.0-cp310-cp310-manylinux_2_17_x86_64.manylinux2014_x86_64.whl (1.7 MB)\n",
            "\u001b[2K     \u001b[90m━━━━━━━━━━━━━━━━━━━━━━━━━━━━━━━━━━━━━━━━\u001b[0m \u001b[32m1.7/1.7 MB\u001b[0m \u001b[31m13.8 MB/s\u001b[0m eta \u001b[36m0:00:00\u001b[0m\n",
            "\u001b[?25hCollecting python-dotenv\n",
            "  Downloading python_dotenv-1.0.0-py3-none-any.whl (19 kB)\n",
            "Collecting langchain\n",
            "  Downloading langchain-0.0.284-py3-none-any.whl (1.7 MB)\n",
            "\u001b[2K     \u001b[90m━━━━━━━━━━━━━━━━━━━━━━━━━━━━━━━━━━━━━━━━\u001b[0m \u001b[32m1.7/1.7 MB\u001b[0m \u001b[31m21.9 MB/s\u001b[0m eta \u001b[36m0:00:00\u001b[0m\n",
            "\u001b[?25hCollecting openai\n",
            "  Downloading openai-0.28.0-py3-none-any.whl (76 kB)\n",
            "\u001b[2K     \u001b[90m━━━━━━━━━━━━━━━━━━━━━━━━━━━━━━━━━━━━━━━━\u001b[0m \u001b[32m76.5/76.5 kB\u001b[0m \u001b[31m10.4 MB/s\u001b[0m eta \u001b[36m0:00:00\u001b[0m\n",
            "\u001b[?25hCollecting chromadb\n",
            "  Downloading chromadb-0.4.9-py3-none-any.whl (421 kB)\n",
            "\u001b[2K     \u001b[90m━━━━━━━━━━━━━━━━━━━━━━━━━━━━━━━━━━━━━━\u001b[0m \u001b[32m421.9/421.9 kB\u001b[0m \u001b[31m23.8 MB/s\u001b[0m eta \u001b[36m0:00:00\u001b[0m\n",
            "\u001b[?25hRequirement already satisfied: regex>=2022.1.18 in /usr/local/lib/python3.10/dist-packages (from tiktoken) (2023.6.3)\n",
            "Requirement already satisfied: requests>=2.26.0 in /usr/local/lib/python3.10/dist-packages (from tiktoken) (2.31.0)\n",
            "Requirement already satisfied: PyYAML>=5.3 in /usr/local/lib/python3.10/dist-packages (from langchain) (6.0.1)\n",
            "Requirement already satisfied: SQLAlchemy<3,>=1.4 in /usr/local/lib/python3.10/dist-packages (from langchain) (2.0.20)\n",
            "Requirement already satisfied: aiohttp<4.0.0,>=3.8.3 in /usr/local/lib/python3.10/dist-packages (from langchain) (3.8.5)\n",
            "Requirement already satisfied: async-timeout<5.0.0,>=4.0.0 in /usr/local/lib/python3.10/dist-packages (from langchain) (4.0.3)\n",
            "Collecting dataclasses-json<0.6.0,>=0.5.7 (from langchain)\n",
            "  Downloading dataclasses_json-0.5.14-py3-none-any.whl (26 kB)\n",
            "Collecting langsmith<0.1.0,>=0.0.21 (from langchain)\n",
            "  Downloading langsmith-0.0.33-py3-none-any.whl (36 kB)\n",
            "Requirement already satisfied: numexpr<3.0.0,>=2.8.4 in /usr/local/lib/python3.10/dist-packages (from langchain) (2.8.5)\n",
            "Requirement already satisfied: numpy<2,>=1 in /usr/local/lib/python3.10/dist-packages (from langchain) (1.23.5)\n",
            "Requirement already satisfied: pydantic<3,>=1 in /usr/local/lib/python3.10/dist-packages (from langchain) (2.3.0)\n",
            "Requirement already satisfied: tenacity<9.0.0,>=8.1.0 in /usr/local/lib/python3.10/dist-packages (from langchain) (8.2.3)\n",
            "Requirement already satisfied: tqdm in /usr/local/lib/python3.10/dist-packages (from openai) (4.66.1)\n",
            "Collecting pydantic<3,>=1 (from langchain)\n",
            "  Downloading pydantic-1.10.12-cp310-cp310-manylinux_2_17_x86_64.manylinux2014_x86_64.whl (3.1 MB)\n",
            "\u001b[2K     \u001b[90m━━━━━━━━━━━━━━━━━━━━━━━━━━━━━━━━━━━━━━━━\u001b[0m \u001b[32m3.1/3.1 MB\u001b[0m \u001b[31m35.2 MB/s\u001b[0m eta \u001b[36m0:00:00\u001b[0m\n",
            "\u001b[?25hCollecting chroma-hnswlib==0.7.2 (from chromadb)\n",
            "  Downloading chroma-hnswlib-0.7.2.tar.gz (31 kB)\n",
            "  Installing build dependencies ... \u001b[?25l\u001b[?25hdone\n",
            "  Getting requirements to build wheel ... \u001b[?25l\u001b[?25hdone\n",
            "  Preparing metadata (pyproject.toml) ... \u001b[?25l\u001b[?25hdone\n",
            "Collecting fastapi<0.100.0,>=0.95.2 (from chromadb)\n",
            "  Downloading fastapi-0.99.1-py3-none-any.whl (58 kB)\n",
            "\u001b[2K     \u001b[90m━━━━━━━━━━━━━━━━━━━━━━━━━━━━━━━━━━━━━━━━\u001b[0m \u001b[32m58.4/58.4 kB\u001b[0m \u001b[31m8.2 MB/s\u001b[0m eta \u001b[36m0:00:00\u001b[0m\n",
            "\u001b[?25hCollecting uvicorn[standard]>=0.18.3 (from chromadb)\n",
            "  Downloading uvicorn-0.23.2-py3-none-any.whl (59 kB)\n",
            "\u001b[2K     \u001b[90m━━━━━━━━━━━━━━━━━━━━━━━━━━━━━━━━━━━━━━━━\u001b[0m \u001b[32m59.5/59.5 kB\u001b[0m \u001b[31m8.6 MB/s\u001b[0m eta \u001b[36m0:00:00\u001b[0m\n",
            "\u001b[?25hCollecting posthog>=2.4.0 (from chromadb)\n",
            "  Downloading posthog-3.0.2-py2.py3-none-any.whl (37 kB)\n",
            "Requirement already satisfied: typing-extensions>=4.5.0 in /usr/local/lib/python3.10/dist-packages (from chromadb) (4.7.1)\n",
            "Collecting pulsar-client>=3.1.0 (from chromadb)\n",
            "  Downloading pulsar_client-3.3.0-cp310-cp310-manylinux_2_17_x86_64.manylinux2014_x86_64.whl (5.4 MB)\n",
            "\u001b[2K     \u001b[90m━━━━━━━━━━━━━━━━━━━━━━━━━━━━━━━━━━━━━━━━\u001b[0m \u001b[32m5.4/5.4 MB\u001b[0m \u001b[31m54.0 MB/s\u001b[0m eta \u001b[36m0:00:00\u001b[0m\n",
            "\u001b[?25hCollecting onnxruntime>=1.14.1 (from chromadb)\n",
            "  Downloading onnxruntime-1.15.1-cp310-cp310-manylinux_2_17_x86_64.manylinux2014_x86_64.whl (5.9 MB)\n",
            "\u001b[2K     \u001b[90m━━━━━━━━━━━━━━━━━━━━━━━━━━━━━━━━━━━━━━━━\u001b[0m \u001b[32m5.9/5.9 MB\u001b[0m \u001b[31m71.8 MB/s\u001b[0m eta \u001b[36m0:00:00\u001b[0m\n",
            "\u001b[?25hCollecting tokenizers>=0.13.2 (from chromadb)\n",
            "  Downloading tokenizers-0.14.0-cp310-cp310-manylinux_2_17_x86_64.manylinux2014_x86_64.whl (3.8 MB)\n",
            "\u001b[2K     \u001b[90m━━━━━━━━━━━━━━━━━━━━━━━━━━━━━━━━━━━━━━━━\u001b[0m \u001b[32m3.8/3.8 MB\u001b[0m \u001b[31m86.4 MB/s\u001b[0m eta \u001b[36m0:00:00\u001b[0m\n",
            "\u001b[?25hCollecting pypika>=0.48.9 (from chromadb)\n",
            "  Downloading PyPika-0.48.9.tar.gz (67 kB)\n",
            "\u001b[2K     \u001b[90m━━━━━━━━━━━━━━━━━━━━━━━━━━━━━━━━━━━━━━━━\u001b[0m \u001b[32m67.3/67.3 kB\u001b[0m \u001b[31m9.9 MB/s\u001b[0m eta \u001b[36m0:00:00\u001b[0m\n",
            "\u001b[?25h  Installing build dependencies ... \u001b[?25l\u001b[?25hdone\n",
            "  Getting requirements to build wheel ... \u001b[?25l\u001b[?25hdone\n",
            "  Preparing metadata (pyproject.toml) ... \u001b[?25l\u001b[?25hdone\n",
            "Collecting overrides>=7.3.1 (from chromadb)\n",
            "  Downloading overrides-7.4.0-py3-none-any.whl (17 kB)\n",
            "Requirement already satisfied: importlib-resources in /usr/local/lib/python3.10/dist-packages (from chromadb) (6.0.1)\n",
            "Collecting bcrypt>=4.0.1 (from chromadb)\n",
            "  Downloading bcrypt-4.0.1-cp36-abi3-manylinux_2_28_x86_64.whl (593 kB)\n",
            "\u001b[2K     \u001b[90m━━━━━━━━━━━━━━━━━━━━━━━━━━━━━━━━━━━━━━\u001b[0m \u001b[32m593.7/593.7 kB\u001b[0m \u001b[31m44.9 MB/s\u001b[0m eta \u001b[36m0:00:00\u001b[0m\n",
            "\u001b[?25hRequirement already satisfied: attrs>=17.3.0 in /usr/local/lib/python3.10/dist-packages (from aiohttp<4.0.0,>=3.8.3->langchain) (23.1.0)\n",
            "Requirement already satisfied: charset-normalizer<4.0,>=2.0 in /usr/local/lib/python3.10/dist-packages (from aiohttp<4.0.0,>=3.8.3->langchain) (3.2.0)\n",
            "Requirement already satisfied: multidict<7.0,>=4.5 in /usr/local/lib/python3.10/dist-packages (from aiohttp<4.0.0,>=3.8.3->langchain) (6.0.4)\n",
            "Requirement already satisfied: yarl<2.0,>=1.0 in /usr/local/lib/python3.10/dist-packages (from aiohttp<4.0.0,>=3.8.3->langchain) (1.9.2)\n",
            "Requirement already satisfied: frozenlist>=1.1.1 in /usr/local/lib/python3.10/dist-packages (from aiohttp<4.0.0,>=3.8.3->langchain) (1.4.0)\n",
            "Requirement already satisfied: aiosignal>=1.1.2 in /usr/local/lib/python3.10/dist-packages (from aiohttp<4.0.0,>=3.8.3->langchain) (1.3.1)\n",
            "Collecting marshmallow<4.0.0,>=3.18.0 (from dataclasses-json<0.6.0,>=0.5.7->langchain)\n",
            "  Downloading marshmallow-3.20.1-py3-none-any.whl (49 kB)\n",
            "\u001b[2K     \u001b[90m━━━━━━━━━━━━━━━━━━━━━━━━━━━━━━━━━━━━━━━━\u001b[0m \u001b[32m49.4/49.4 kB\u001b[0m \u001b[31m6.9 MB/s\u001b[0m eta \u001b[36m0:00:00\u001b[0m\n",
            "\u001b[?25hCollecting typing-inspect<1,>=0.4.0 (from dataclasses-json<0.6.0,>=0.5.7->langchain)\n",
            "  Downloading typing_inspect-0.9.0-py3-none-any.whl (8.8 kB)\n",
            "Collecting starlette<0.28.0,>=0.27.0 (from fastapi<0.100.0,>=0.95.2->chromadb)\n",
            "  Downloading starlette-0.27.0-py3-none-any.whl (66 kB)\n",
            "\u001b[2K     \u001b[90m━━━━━━━━━━━━━━━━━━━━━━━━━━━━━━━━━━━━━━━━\u001b[0m \u001b[32m67.0/67.0 kB\u001b[0m \u001b[31m8.5 MB/s\u001b[0m eta \u001b[36m0:00:00\u001b[0m\n",
            "\u001b[?25hCollecting coloredlogs (from onnxruntime>=1.14.1->chromadb)\n",
            "  Downloading coloredlogs-15.0.1-py2.py3-none-any.whl (46 kB)\n",
            "\u001b[2K     \u001b[90m━━━━━━━━━━━━━━━━━━━━━━━━━━━━━━━━━━━━━━━━\u001b[0m \u001b[32m46.0/46.0 kB\u001b[0m \u001b[31m6.0 MB/s\u001b[0m eta \u001b[36m0:00:00\u001b[0m\n",
            "\u001b[?25hRequirement already satisfied: flatbuffers in /usr/local/lib/python3.10/dist-packages (from onnxruntime>=1.14.1->chromadb) (23.5.26)\n",
            "Requirement already satisfied: packaging in /usr/local/lib/python3.10/dist-packages (from onnxruntime>=1.14.1->chromadb) (23.1)\n",
            "Requirement already satisfied: protobuf in /usr/local/lib/python3.10/dist-packages (from onnxruntime>=1.14.1->chromadb) (3.20.3)\n",
            "Requirement already satisfied: sympy in /usr/local/lib/python3.10/dist-packages (from onnxruntime>=1.14.1->chromadb) (1.12)\n",
            "Requirement already satisfied: six>=1.5 in /usr/local/lib/python3.10/dist-packages (from posthog>=2.4.0->chromadb) (1.16.0)\n",
            "Collecting monotonic>=1.5 (from posthog>=2.4.0->chromadb)\n",
            "  Downloading monotonic-1.6-py2.py3-none-any.whl (8.2 kB)\n",
            "Collecting backoff>=1.10.0 (from posthog>=2.4.0->chromadb)\n",
            "  Downloading backoff-2.2.1-py3-none-any.whl (15 kB)\n",
            "Requirement already satisfied: python-dateutil>2.1 in /usr/local/lib/python3.10/dist-packages (from posthog>=2.4.0->chromadb) (2.8.2)\n",
            "Requirement already satisfied: certifi in /usr/local/lib/python3.10/dist-packages (from pulsar-client>=3.1.0->chromadb) (2023.7.22)\n",
            "Requirement already satisfied: idna<4,>=2.5 in /usr/local/lib/python3.10/dist-packages (from requests>=2.26.0->tiktoken) (3.4)\n",
            "Requirement already satisfied: urllib3<3,>=1.21.1 in /usr/local/lib/python3.10/dist-packages (from requests>=2.26.0->tiktoken) (2.0.4)\n",
            "Requirement already satisfied: greenlet!=0.4.17 in /usr/local/lib/python3.10/dist-packages (from SQLAlchemy<3,>=1.4->langchain) (2.0.2)\n",
            "Collecting huggingface_hub<0.17,>=0.16.4 (from tokenizers>=0.13.2->chromadb)\n",
            "  Downloading huggingface_hub-0.16.4-py3-none-any.whl (268 kB)\n",
            "\u001b[2K     \u001b[90m━━━━━━━━━━━━━━━━━━━━━━━━━━━━━━━━━━━━━━\u001b[0m \u001b[32m268.8/268.8 kB\u001b[0m \u001b[31m26.9 MB/s\u001b[0m eta \u001b[36m0:00:00\u001b[0m\n",
            "\u001b[?25hRequirement already satisfied: click>=7.0 in /usr/local/lib/python3.10/dist-packages (from uvicorn[standard]>=0.18.3->chromadb) (8.1.7)\n",
            "Collecting h11>=0.8 (from uvicorn[standard]>=0.18.3->chromadb)\n",
            "  Downloading h11-0.14.0-py3-none-any.whl (58 kB)\n",
            "\u001b[2K     \u001b[90m━━━━━━━━━━━━━━━━━━━━━━━━━━━━━━━━━━━━━━━━\u001b[0m \u001b[32m58.3/58.3 kB\u001b[0m \u001b[31m7.4 MB/s\u001b[0m eta \u001b[36m0:00:00\u001b[0m\n",
            "\u001b[?25hCollecting httptools>=0.5.0 (from uvicorn[standard]>=0.18.3->chromadb)\n",
            "  Downloading httptools-0.6.0-cp310-cp310-manylinux_2_5_x86_64.manylinux1_x86_64.manylinux_2_17_x86_64.manylinux2014_x86_64.whl (428 kB)\n",
            "\u001b[2K     \u001b[90m━━━━━━━━━━━━━━━━━━━━━━━━━━━━━━━━━━━━━━\u001b[0m \u001b[32m428.8/428.8 kB\u001b[0m \u001b[31m41.5 MB/s\u001b[0m eta \u001b[36m0:00:00\u001b[0m\n",
            "\u001b[?25hCollecting uvloop!=0.15.0,!=0.15.1,>=0.14.0 (from uvicorn[standard]>=0.18.3->chromadb)\n",
            "  Downloading uvloop-0.17.0-cp310-cp310-manylinux_2_17_x86_64.manylinux2014_x86_64.whl (4.1 MB)\n",
            "\u001b[2K     \u001b[90m━━━━━━━━━━━━━━━━━━━━━━━━━━━━━━━━━━━━━━━━\u001b[0m \u001b[32m4.1/4.1 MB\u001b[0m \u001b[31m81.1 MB/s\u001b[0m eta \u001b[36m0:00:00\u001b[0m\n",
            "\u001b[?25hCollecting watchfiles>=0.13 (from uvicorn[standard]>=0.18.3->chromadb)\n",
            "  Downloading watchfiles-0.20.0-cp37-abi3-manylinux_2_17_x86_64.manylinux2014_x86_64.whl (1.3 MB)\n",
            "\u001b[2K     \u001b[90m━━━━━━━━━━━━━━━━━━━━━━━━━━━━━━━━━━━━━━━━\u001b[0m \u001b[32m1.3/1.3 MB\u001b[0m \u001b[31m63.8 MB/s\u001b[0m eta \u001b[36m0:00:00\u001b[0m\n",
            "\u001b[?25hCollecting websockets>=10.4 (from uvicorn[standard]>=0.18.3->chromadb)\n",
            "  Downloading websockets-11.0.3-cp310-cp310-manylinux_2_5_x86_64.manylinux1_x86_64.manylinux_2_17_x86_64.manylinux2014_x86_64.whl (129 kB)\n",
            "\u001b[2K     \u001b[90m━━━━━━━━━━━━━━━━━━━━━━━━━━━━━━━━━━━━━━\u001b[0m \u001b[32m129.9/129.9 kB\u001b[0m \u001b[31m14.0 MB/s\u001b[0m eta \u001b[36m0:00:00\u001b[0m\n",
            "\u001b[?25hRequirement already satisfied: filelock in /usr/local/lib/python3.10/dist-packages (from huggingface_hub<0.17,>=0.16.4->tokenizers>=0.13.2->chromadb) (3.12.3)\n",
            "Requirement already satisfied: fsspec in /usr/local/lib/python3.10/dist-packages (from huggingface_hub<0.17,>=0.16.4->tokenizers>=0.13.2->chromadb) (2023.6.0)\n",
            "Requirement already satisfied: anyio<5,>=3.4.0 in /usr/local/lib/python3.10/dist-packages (from starlette<0.28.0,>=0.27.0->fastapi<0.100.0,>=0.95.2->chromadb) (3.7.1)\n",
            "Collecting mypy-extensions>=0.3.0 (from typing-inspect<1,>=0.4.0->dataclasses-json<0.6.0,>=0.5.7->langchain)\n",
            "  Downloading mypy_extensions-1.0.0-py3-none-any.whl (4.7 kB)\n",
            "Collecting humanfriendly>=9.1 (from coloredlogs->onnxruntime>=1.14.1->chromadb)\n",
            "  Downloading humanfriendly-10.0-py2.py3-none-any.whl (86 kB)\n",
            "\u001b[2K     \u001b[90m━━━━━━━━━━━━━━━━━━━━━━━━━━━━━━━━━━━━━━━━\u001b[0m \u001b[32m86.8/86.8 kB\u001b[0m \u001b[31m7.8 MB/s\u001b[0m eta \u001b[36m0:00:00\u001b[0m\n",
            "\u001b[?25hRequirement already satisfied: mpmath>=0.19 in /usr/local/lib/python3.10/dist-packages (from sympy->onnxruntime>=1.14.1->chromadb) (1.3.0)\n",
            "Requirement already satisfied: sniffio>=1.1 in /usr/local/lib/python3.10/dist-packages (from anyio<5,>=3.4.0->starlette<0.28.0,>=0.27.0->fastapi<0.100.0,>=0.95.2->chromadb) (1.3.0)\n",
            "Requirement already satisfied: exceptiongroup in /usr/local/lib/python3.10/dist-packages (from anyio<5,>=3.4.0->starlette<0.28.0,>=0.27.0->fastapi<0.100.0,>=0.95.2->chromadb) (1.1.3)\n",
            "Building wheels for collected packages: chroma-hnswlib, pypika\n",
            "  Building wheel for chroma-hnswlib (pyproject.toml) ... \u001b[?25l\u001b[?25hdone\n",
            "  Created wheel for chroma-hnswlib: filename=chroma_hnswlib-0.7.2-cp310-cp310-linux_x86_64.whl size=2285665 sha256=1ead6e706992455f2c5a47114faedbe829d5d158fc9536d7995f241084a4cfd6\n",
            "  Stored in directory: /root/.cache/pip/wheels/11/2b/0d/ee457f6782f75315bb5828d5c2dc5639d471afbd44a830b9dc\n",
            "  Building wheel for pypika (pyproject.toml) ... \u001b[?25l\u001b[?25hdone\n",
            "  Created wheel for pypika: filename=PyPika-0.48.9-py2.py3-none-any.whl size=53723 sha256=004540cd7668707f97603e27d778c6a8cdf35bfd8248246daff22eb5afb28527\n",
            "  Stored in directory: /root/.cache/pip/wheels/e1/26/51/d0bffb3d2fd82256676d7ad3003faea3bd6dddc9577af665f4\n",
            "Successfully built chroma-hnswlib pypika\n",
            "Installing collected packages: pypika, monotonic, websockets, uvloop, python-dotenv, PyPDF2, pydantic, pulsar-client, overrides, mypy-extensions, marshmallow, humanfriendly, httptools, h11, chroma-hnswlib, bcrypt, backoff, watchfiles, uvicorn, typing-inspect, tiktoken, starlette, posthog, langsmith, huggingface_hub, coloredlogs, tokenizers, openai, onnxruntime, fastapi, dataclasses-json, langchain, chromadb\n",
            "  Attempting uninstall: pydantic\n",
            "    Found existing installation: pydantic 2.3.0\n",
            "    Uninstalling pydantic-2.3.0:\n",
            "      Successfully uninstalled pydantic-2.3.0\n",
            "Successfully installed PyPDF2-3.0.1 backoff-2.2.1 bcrypt-4.0.1 chroma-hnswlib-0.7.2 chromadb-0.4.9 coloredlogs-15.0.1 dataclasses-json-0.5.14 fastapi-0.99.1 h11-0.14.0 httptools-0.6.0 huggingface_hub-0.16.4 humanfriendly-10.0 langchain-0.0.284 langsmith-0.0.33 marshmallow-3.20.1 monotonic-1.6 mypy-extensions-1.0.0 onnxruntime-1.15.1 openai-0.28.0 overrides-7.4.0 posthog-3.0.2 pulsar-client-3.3.0 pydantic-1.10.12 pypika-0.48.9 python-dotenv-1.0.0 starlette-0.27.0 tiktoken-0.4.0 tokenizers-0.14.0 typing-inspect-0.9.0 uvicorn-0.23.2 uvloop-0.17.0 watchfiles-0.20.0 websockets-11.0.3\n"
          ]
        }
      ]
    },
    {
      "cell_type": "markdown",
      "source": [
        "##Scraping the Data"
      ],
      "metadata": {
        "id": "cyILwETZchhB"
      }
    },
    {
      "cell_type": "code",
      "source": [
        "!pip install beautifulsoup4 requests jsonlines"
      ],
      "metadata": {
        "id": "ybZNjaJ-8_8T",
        "colab": {
          "base_uri": "https://localhost:8080/"
        },
        "outputId": "cdad160b-cba4-43c2-f06d-cf87156ed201"
      },
      "execution_count": null,
      "outputs": [
        {
          "output_type": "stream",
          "name": "stdout",
          "text": [
            "Requirement already satisfied: beautifulsoup4 in /usr/local/lib/python3.10/dist-packages (4.11.2)\n",
            "Requirement already satisfied: requests in /usr/local/lib/python3.10/dist-packages (2.31.0)\n",
            "Collecting jsonlines\n",
            "  Downloading jsonlines-4.0.0-py3-none-any.whl (8.7 kB)\n",
            "Requirement already satisfied: soupsieve>1.2 in /usr/local/lib/python3.10/dist-packages (from beautifulsoup4) (2.5)\n",
            "Requirement already satisfied: charset-normalizer<4,>=2 in /usr/local/lib/python3.10/dist-packages (from requests) (3.2.0)\n",
            "Requirement already satisfied: idna<4,>=2.5 in /usr/local/lib/python3.10/dist-packages (from requests) (3.4)\n",
            "Requirement already satisfied: urllib3<3,>=1.21.1 in /usr/local/lib/python3.10/dist-packages (from requests) (2.0.4)\n",
            "Requirement already satisfied: certifi>=2017.4.17 in /usr/local/lib/python3.10/dist-packages (from requests) (2023.7.22)\n",
            "Requirement already satisfied: attrs>=19.2.0 in /usr/local/lib/python3.10/dist-packages (from jsonlines) (23.1.0)\n",
            "Installing collected packages: jsonlines\n",
            "Successfully installed jsonlines-4.0.0\n"
          ]
        }
      ]
    },
    {
      "cell_type": "code",
      "source": [
        "import requests\n",
        "from bs4 import BeautifulSoup\n",
        "import jsonlines\n",
        "\n",
        "# URL of the page that contains questions & responses about diabetes\n",
        "url = \"https://diabetesaction.org/questions-general-information\"\n",
        "\n",
        "response = requests.get(url)\n",
        "\n",
        "if response.status_code == 200:\n",
        "    # Parse the HTML content of the page using BeautifulSoup\n",
        "    soup = BeautifulSoup(response.text, \"html.parser\")\n",
        "\n",
        "    qa_pairs = []\n",
        "    current_qa = None\n",
        "\n",
        "    for element in soup.find_all([\"p\", \"h1\"]):\n",
        "        text = element.get_text().strip()\n",
        "        if text.startswith(\"Q:\"):\n",
        "            if current_qa:\n",
        "                qa_pairs.append(current_qa)\n",
        "\n",
        "\n",
        "            current_qa = {\"Question\": text[2:].split('A:')[0].strip(), \"Answer\": text[2:].split('A:')[1].strip()}\n",
        "\n",
        "    if current_qa:\n",
        "        qa_pairs.append(current_qa)\n",
        "\n",
        "\n",
        "else:\n",
        "    print(\"Failed to retrieve the web page. Status code:\", response.status_code)\n"
      ],
      "metadata": {
        "id": "zqBnpCp68Zef"
      },
      "execution_count": null,
      "outputs": []
    },
    {
      "cell_type": "code",
      "source": [
        "qa_pairs[5]"
      ],
      "metadata": {
        "colab": {
          "base_uri": "https://localhost:8080/"
        },
        "id": "kv3BS3WSeNeP",
        "outputId": "c7cd9175-7134-43dd-9aaa-602a5bbc03a0"
      },
      "execution_count": null,
      "outputs": [
        {
          "output_type": "execute_result",
          "data": {
            "text/plain": [
              "{'Question': 'I read that people with diabetes should not use heating pads. Why not?',\n",
              " 'Answer': 'This recommendation is more of a caution for those who have neuropathy and may not feel if the pad gets too hot and could be burned as a result.'}"
            ]
          },
          "metadata": {},
          "execution_count": 25
        }
      ]
    },
    {
      "cell_type": "code",
      "source": [
        "len(qa_pairs)"
      ],
      "metadata": {
        "colab": {
          "base_uri": "https://localhost:8080/"
        },
        "id": "kGdHe1iWlTPN",
        "outputId": "4f0a04a6-f2d7-4b13-fbd6-e5664269a6ff"
      },
      "execution_count": null,
      "outputs": [
        {
          "output_type": "execute_result",
          "data": {
            "text/plain": [
              "54"
            ]
          },
          "metadata": {},
          "execution_count": 35
        }
      ]
    },
    {
      "cell_type": "markdown",
      "source": [
        "##Processing & transforming the data\n",
        "\n",
        "We'll fine tune gpt3.5-turbo, so the dataset format should be training examples in this format.\n",
        "https://platform.openai.com/docs/guides/fine-tuning/preparing-your-dataset\n",
        "\n",
        "`\n",
        "{\"messages\": [{\"role\": \"system\", \"content\": \"Marv is a factual chatbot that is also sarcastic.\"}, {\"role\": \"user\", \"content\": \"What's the capital of France?\"}, {\"role\": \"assistant\", \"content\": \"Paris, as if everyone doesn't know that already.\"}]}\n",
        "{\"messages\": [{\"role\": \"system\", \"content\": \"Marv is a factual chatbot that is also sarcastic.\"}, {\"role\": \"user\", \"content\": \"Who wrote 'Romeo and Juliet'?\"}, {\"role\": \"assistant\", \"content\": \"Oh, just some guy named William Shakespeare. Ever heard of him?\"}]}\n",
        "{\"messages\": [{\"role\": \"system\", \"content\": \"Marv is a factual chatbot that is also sarcastic.\"}, {\"role\": \"user\", \"content\": \"How far is the Moon from Earth?\"}, {\"role\": \"assistant\", \"content\": \"Around 384,400 kilometers. Give or take a few, like that really matters.\"}]}\n",
        "`\n",
        "\n"
      ],
      "metadata": {
        "id": "DmxwwtBadB45"
      }
    },
    {
      "cell_type": "code",
      "source": [
        "full_data=[{\"messages\": [{\"role\": \"system\", \"content\": \"You are a helpful diabetes doctor.\"}\n",
        "              , {\"role\": \"user\", \"content\": \"\"},\n",
        "              {\"role\": \"assistant\", \"content\": \"\"}]} for i in range(len(qa_pairs))]"
      ],
      "metadata": {
        "id": "J_zEc8AsLNW0"
      },
      "execution_count": null,
      "outputs": []
    },
    {
      "cell_type": "code",
      "source": [
        "for i in range(len(qa_pairs)):\n",
        "\n",
        "    full_data[i]['messages'][1]['content']=qa_pairs[i]['Question']\n",
        "    full_data[i]['messages'][2]['content']=qa_pairs[i]['Answer']\n"
      ],
      "metadata": {
        "id": "tqAgnr7BHMCK"
      },
      "execution_count": null,
      "outputs": []
    },
    {
      "cell_type": "code",
      "source": [
        "full_data[5]"
      ],
      "metadata": {
        "colab": {
          "base_uri": "https://localhost:8080/"
        },
        "id": "eNBhyBgXhP5o",
        "outputId": "776854f5-3660-421b-a95e-ebc65ee78652"
      },
      "execution_count": null,
      "outputs": [
        {
          "output_type": "execute_result",
          "data": {
            "text/plain": [
              "{'messages': [{'role': 'system',\n",
              "   'content': 'You are a helpful diabetes doctor.'},\n",
              "  {'role': 'user',\n",
              "   'content': 'I read that people with diabetes should not use heating pads. Why not?'},\n",
              "  {'role': 'assistant',\n",
              "   'content': 'This recommendation is more of a caution for those who have neuropathy and may not feel if the pad gets too hot and could be burned as a result.'}]}"
            ]
          },
          "metadata": {},
          "execution_count": 33
        }
      ]
    },
    {
      "cell_type": "code",
      "source": [
        "#save the data in jsonl format to be training file\n",
        "with jsonlines.open(\"diabetes_qa.jsonl\", mode=\"w\") as writer:\n",
        "        for data in full_data:\n",
        "            writer.write(data)"
      ],
      "metadata": {
        "id": "MbAiUF7vONRp"
      },
      "execution_count": null,
      "outputs": []
    },
    {
      "cell_type": "markdown",
      "source": [
        "##FineTuning gpt3.5-turbo part"
      ],
      "metadata": {
        "id": "igRMsWBgdTPT"
      }
    },
    {
      "cell_type": "code",
      "source": [
        "import openai\n",
        "import ast\n",
        "import os\n",
        "from dotenv import load_dotenv\n",
        "from langchain import PromptTemplate, LLMChain\n",
        "from langchain.chains import SequentialChain\n",
        "from langchain.chat_models import ChatOpenAI\n",
        "from langchain.chat_models import AzureChatOpenAI"
      ],
      "metadata": {
        "id": "-FiO4FrsHPzz"
      },
      "execution_count": null,
      "outputs": []
    },
    {
      "cell_type": "code",
      "source": [
        "openai.api_key = os.getenv(\"OPENAI_API_KEY\")\n",
        "\n",
        "openai.File.create(\n",
        "  file=open(\"diabetes_qa.jsonl\", \"rb\"),\n",
        "  purpose='fine-tune'\n",
        ")"
      ],
      "metadata": {
        "colab": {
          "base_uri": "https://localhost:8080/"
        },
        "id": "KQJONIB_LAm5",
        "outputId": "8e86e460-9f9b-435e-c336-b3abfbb4718c"
      },
      "execution_count": null,
      "outputs": [
        {
          "output_type": "execute_result",
          "data": {
            "text/plain": [
              "<File file id=file-W3a7sQQm06EmFArN5AimVQhH at 0x781079a27e70> JSON: {\n",
              "  \"object\": \"file\",\n",
              "  \"id\": \"file-W3a7sQQm06EmFArN5AimVQhH\",\n",
              "  \"purpose\": \"fine-tune\",\n",
              "  \"filename\": \"file\",\n",
              "  \"bytes\": 3959,\n",
              "  \"created_at\": 1693844681,\n",
              "  \"status\": \"uploaded\",\n",
              "  \"status_details\": null\n",
              "}"
            ]
          },
          "metadata": {},
          "execution_count": 24
        }
      ]
    },
    {
      "cell_type": "code",
      "source": [
        "openai.FineTuningJob.create(training_file=\"file-W3a7sQQm06EmFArN5AimVQhH\", model=\"gpt-3.5-turbo\")\n",
        "#you should notice that   \"finished_at\": null"
      ],
      "metadata": {
        "colab": {
          "base_uri": "https://localhost:8080/"
        },
        "id": "RQ2kOh_JlUIO",
        "outputId": "413ee79f-7558-4883-9721-f01aad04200b"
      },
      "execution_count": null,
      "outputs": [
        {
          "output_type": "execute_result",
          "data": {
            "text/plain": [
              "<FineTuningJob fine_tuning.job id=ftjob-c1QcWCIhfHS7kkpDpLGC55EB at 0x781079859b70> JSON: {\n",
              "  \"object\": \"fine_tuning.job\",\n",
              "  \"id\": \"ftjob-c1QcWCIhfHS7kkpDpLGC55EB\",\n",
              "  \"model\": \"gpt-3.5-turbo-0613\",\n",
              "  \"created_at\": 1693844693,\n",
              "  \"finished_at\": null,\n",
              "  \"fine_tuned_model\": null,\n",
              "  \"organization_id\": \"org-xMtkzKyhUcNQT5Zpep3rAnUr\",\n",
              "  \"result_files\": [],\n",
              "  \"status\": \"created\",\n",
              "  \"validation_file\": null,\n",
              "  \"training_file\": \"file-W3a7sQQm06EmFArN5AimVQhH\",\n",
              "  \"hyperparameters\": {\n",
              "    \"n_epochs\": 8\n",
              "  },\n",
              "  \"trained_tokens\": null\n",
              "}"
            ]
          },
          "metadata": {},
          "execution_count": 25
        }
      ]
    },
    {
      "cell_type": "code",
      "source": [
        "from time import sleep\n",
        "\n",
        "while True:\n",
        "    res = openai.FineTuningJob.retrieve('ftjob-c1QcWCIhfHS7kkpDpLGC55EB')\n",
        "    if res[\"finished_at\"] != None:\n",
        "        break\n",
        "    else:\n",
        "        print(\".\", end=\"\")\n",
        "        sleep(100)"
      ],
      "metadata": {
        "id": "m8Sx7STyLUTR",
        "colab": {
          "base_uri": "https://localhost:8080/"
        },
        "outputId": "91dc3996-92de-4e8a-9313-0aef95d089fe"
      },
      "execution_count": null,
      "outputs": [
        {
          "output_type": "stream",
          "name": "stdout",
          "text": [
            "....."
          ]
        }
      ]
    },
    {
      "cell_type": "code",
      "source": [
        "res\n",
        "#the status should be succeeded after fine tuning,   \"finished_at\": 1693845135"
      ],
      "metadata": {
        "colab": {
          "base_uri": "https://localhost:8080/"
        },
        "id": "nCwP2wjz_pvN",
        "outputId": "fbf65f87-cc80-4afb-f7b5-fbd4c9ac0a55"
      },
      "execution_count": null,
      "outputs": [
        {
          "output_type": "execute_result",
          "data": {
            "text/plain": [
              "<FineTuningJob fine_tuning.job id=ftjob-c1QcWCIhfHS7kkpDpLGC55EB at 0x7810865b6160> JSON: {\n",
              "  \"object\": \"fine_tuning.job\",\n",
              "  \"id\": \"ftjob-c1QcWCIhfHS7kkpDpLGC55EB\",\n",
              "  \"model\": \"gpt-3.5-turbo-0613\",\n",
              "  \"created_at\": 1693844693,\n",
              "  \"finished_at\": 1693845135,\n",
              "  \"fine_tuned_model\": \"ft:gpt-3.5-turbo-0613:talentguide::7v6mmOYg\",\n",
              "  \"organization_id\": \"org-xMtkzKyhUcNQT5Zpep3rAnUr\",\n",
              "  \"result_files\": [\n",
              "    \"file-NQqefUOJNH28tyGp11K2hF9U\"\n",
              "  ],\n",
              "  \"status\": \"succeeded\",\n",
              "  \"validation_file\": null,\n",
              "  \"training_file\": \"file-W3a7sQQm06EmFArN5AimVQhH\",\n",
              "  \"hyperparameters\": {\n",
              "    \"n_epochs\": 8\n",
              "  },\n",
              "  \"trained_tokens\": 6016\n",
              "}"
            ]
          },
          "metadata": {},
          "execution_count": 27
        }
      ]
    },
    {
      "cell_type": "markdown",
      "source": [
        "after fine tuning successfully you should reveive this email from openAI so you can use it in the playground.\n",
        "\n",
        "\n",
        "![image.png](data:image/png;base64,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)"
      ],
      "metadata": {
        "id": "DP8YfJj5iJBm"
      }
    },
    {
      "cell_type": "code",
      "source": [
        "finetuned_model = res[\"fine_tuned_model\"]\n",
        "finetuned_model"
      ],
      "metadata": {
        "id": "_Kga3o1kimev"
      },
      "execution_count": null,
      "outputs": []
    },
    {
      "cell_type": "code",
      "source": [
        "#you can simply use the model with chatCompletition openAi\n",
        "completion = openai.ChatCompletion.create(\n",
        "  model=finetuned_model,\n",
        "  messages=[\n",
        "    {\"role\": \"user\", \"content\": \"Hello!\"}\n",
        "  ]\n",
        ")\n",
        "response= completion.choices[0].message)"
      ],
      "metadata": {
        "id": "IYmAA8APjkdN"
      },
      "execution_count": null,
      "outputs": []
    },
    {
      "cell_type": "code",
      "source": [
        "#or you can use the model with langchain & ChatOpenAI and history ...\n",
        "from langchain.chat_models import ChatOpenAI\n",
        "from langchain.memory import ConversationBufferWindowMemory\n",
        "\n",
        "llm = ChatOpenAI(\n",
        "    temperature=0.5,\n",
        "    model_name=finetuned_model\n",
        ")\n",
        "\n",
        "memory = ConversationBufferWindowMemory(\n",
        "    memory_key=\"chat_history\",\n",
        "    k=5,\n",
        "    return_messages=True,\n",
        "    output_key=\"output\"\n",
        ")"
      ],
      "metadata": {
        "id": "L4UKawIenc4_"
      },
      "execution_count": null,
      "outputs": []
    },
    {
      "cell_type": "code",
      "source": [
        "#once the model works fine, you can deploy it with front end or simply use the Playground of openAI."
      ],
      "metadata": {
        "id": "T-xDr_dhcihv"
      },
      "execution_count": null,
      "outputs": []
    },
    {
      "cell_type": "markdown",
      "source": [
        "In the playground, you can choose your fine tuned model and use it easily.\n",
        "\n",
        "![image.png](data:image/png;base64,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)"
      ],
      "metadata": {
        "id": "trvTSTjzhznW"
      }
    },
    {
      "cell_type": "code",
      "source": [],
      "metadata": {
        "id": "mIXbvRlQhz-L"
      },
      "execution_count": null,
      "outputs": []
    }
  ]
}